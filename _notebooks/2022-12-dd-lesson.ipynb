{
 "cells": [
  {
   "attachments": {},
   "cell_type": "markdown",
   "metadata": {},
   "source": [
    "# Unit 3 Sections 17 and 18 Lesson\n",
    "> Algorithmic Efficiency and Undecidable Problems\n",
    "\n",
    "- title: Unit 3 Sections 17-18\n",
    "- toc: true\n",
    "- badges: false\n",
    "- categories: [lessons]"
   ]
  },
  {
   "attachments": {},
   "cell_type": "markdown",
   "metadata": {},
   "source": [
    "## 3.18: Undecidable Problems\n",
    "\n",
    "The Jupyter notebook for this lesson can be found here: [link to notebook].\n",
    "\n",
    "Purpose:\n",
    "\n",
    "The purpose of this lesson is to introduce students to the concept of undecidable problems in computer science and to explain why these problems are important.\n",
    "\n",
    "**Key vocabulary**:\n",
    "- Decision problem\n",
    "- Decidable problem\n",
    "- Undecidable problem\n",
    "\n",
    "### Decision Problem\n",
    ">A decision problem is a problem in computer science and mathematics that can be solved by a yes-no answer, also known as a binary answer. In other words, a decision problem is a problem for which there are only two possible outputs: \"yes\" or \"no\".\n",
    "\n",
    "There are two types of decision problems that Collegeboard goes over:\n",
    "- Decidable Problems\n",
    "- Undecidable Problems\n",
    "\n",
    ">A ________ is a problem in computer science and mathematics for which an algorithm can be created that can always produce a correct answer or solution. In other words, a decidable problem is a problem for which there exists an algorithm that can be used to determine whether a given input is a valid solution or not.\n",
    "\n",
    "Examples:\n",
    "\n",
    ">An ________ problem is a problem in computer science and mathematics for which it is impossible to create an algorithm that can always provide a correct answer or solution. This means that it is not possible for an algorithm to always determine whether a given input is a valid solution to an undecidable problem.\n",
    "\n",
    "Examples:\n",
    "The Halting problem\n",
    "\n",
    "**Important things to note**:\n",
    "- It is important to emphasize that not all problems that are difficult to solve are undecidable. Some problems may be difficult because they require a lot of time or computing power to solve, but they are still decidable.\n",
    "- It is also important to note that some problems that are undecidable for a computer may be decidable for a human. For example, the halting problem is undecidable for a computer, but a human can often tell whether a program will halt by looking at the code."
   ]
  },
  {
   "attachments": {},
   "cell_type": "markdown",
   "metadata": {},
   "source": [
    "## An Undecidable Problem Example\n",
    "The code below shows a undecidable problem. The code keeps adding `1` to the variable `number` until `number` is no longer an integer. However, there is no end to this code, making the computer constantly run."
   ]
  },
  {
   "cell_type": "code",
   "execution_count": null,
   "metadata": {},
   "outputs": [],
   "source": [
    "i = 0\n",
    "number = 1\n",
    "def integerTest(n):\n",
    "    if type(n) == int:\n",
    "        return True\n",
    "    else:\n",
    "        return False\n",
    "\n",
    "while i == 0:\n",
    "    number += 1\n",
    "    if integerTest(number) == False:\n",
    "        i +=1\n",
    "        print(\"Done\")"
   ]
  },
  {
   "attachments": {},
   "cell_type": "markdown",
   "metadata": {},
   "source": [
    "Homework/Hacks:\n",
    "\n",
    "1. Use the Jupyter notebook to write an algorithm that solves a decidable problem. You can use math or whatever else you would like to do.\n",
    "2. Write code to using a number theory concept to get the computer to run forever. Check [This example](https://mmaxwu.github.io/Tri2-GroupFastpages/lessons/2022/12/11/dd-lesson.html#An-Undecidable-Problem-Example) if you need help understanding the directions."
   ]
  }
 ],
 "metadata": {
  "language_info": {
   "name": "python"
  },
  "orig_nbformat": 4
 },
 "nbformat": 4,
 "nbformat_minor": 2
}
