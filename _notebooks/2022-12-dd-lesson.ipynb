{
 "cells": [
  {
   "attachments": {},
   "cell_type": "markdown",
   "metadata": {},
   "source": [
    "# Unit 3 Sections 17 and 18 Lesson\n",
    "> Algorithmic Efficiency and Undecidable Problems\n",
    "\n",
    "- title: Unit 3 Sections 17-18\n",
    "- toc: true\n",
    "- badges: false\n",
    "- categories: [lessons]"
   ]
  },
  {
   "attachments": {},
   "cell_type": "markdown",
   "metadata": {},
   "source": [
    "## 3.18: Undecidable Problems\n",
    "\n",
    "The Jupyter notebook for this lesson can be found here: [link to notebook].\n",
    "\n",
    "Purpose:\n",
    "\n",
    "The purpose of this lesson is to introduce students to the concept of undecidable problems in computer science and to explain why these problems are important.\n",
    "\n",
    "**Key vocabulary**:\n",
    "- Decision problem\n",
    "- Decidable problem\n",
    "- Undecidable problem\n",
    "\n",
    "### Decision Problem\n",
    ">A decision problem is a problem in computer science and mathematics that can be solved by a yes-no answer, also known as a binary answer. In other words, a decision problem is a problem for which there are only two possible outputs: \"yes\" or \"no\".\n",
    "\n",
    "There are two types of decision problems that Collegeboard goes over:\n",
    "- Decidable Problems\n",
    "- Undecidable Problems\n",
    "\n",
    ">A ________ is a problem in computer science and mathematics for which an algorithm can be created that can always produce a correct answer or solution. In other words, a decidable problem is a problem for which there exists an algorithm that can be used to determine whether a given input is a valid solution or not.\n",
    "\n",
    ">An ________ problem is a problem in computer science and mathematics for which it is impossible to create an algorithm that can always provide a correct answer or solution. This means that it is not possible for an algorithm to always determine whether a given input is a valid solution to an undecidable problem."
   ]
  },
  {
   "attachments": {},
   "cell_type": "markdown",
   "metadata": {},
   "source": [
    "## Decidable Problems\n",
    "content down here fore Evan"
   ]
  },
  {
   "attachments": {},
   "cell_type": "markdown",
   "metadata": {},
   "source": [
    "## Undecidable Problems"
   ]
  },
  {
   "attachments": {},
   "cell_type": "markdown",
   "metadata": {},
   "source": [
    "### An Example of a Forever Running Code\n",
    "The code keeps adding `1` to the variable `number` until `number` is no longer an integer. However, there is no end to this code, making the computer run forever. There is no halt to the code."
   ]
  },
  {
   "cell_type": "code",
   "execution_count": null,
   "metadata": {},
   "outputs": [],
   "source": [
    "i = 0\n",
    "number = 1\n",
    "def integerTest(n):\n",
    "    if type(n) == int:\n",
    "        return True\n",
    "    else:\n",
    "        return False\n",
    "\n",
    "while i == 0:\n",
    "    number += 1\n",
    "    if integerTest(number) == False:\n",
    "        i +=1\n",
    "        print(\"Done\")"
   ]
  },
  {
   "attachments": {},
   "cell_type": "markdown",
   "metadata": {},
   "source": [
    "Delete the parentheses later below."
   ]
  },
  {
   "attachments": {},
   "cell_type": "markdown",
   "metadata": {},
   "source": [
    "> There is ________ to write an algorithm to analyze and determine whether this code can run forever or not.\n",
    "- In order to understand this, suppose that an algorithm was able to analyze whether a code halts or not. Let's call this algorithm `HaltCheck`.\n",
    "- In the above code, the code ________, so `HaltCheck` returns an output of \"no end\".\n",
    "- Then, we add another machine which "
   ]
  },
  {
   "attachments": {},
   "cell_type": "markdown",
   "metadata": {},
   "source": [
    "### The Halting Problem\n",
    "The halting problem is an example of an undecidable problem."
   ]
  },
  {
   "attachments": {},
   "cell_type": "markdown",
   "metadata": {},
   "source": [
    "Homework/Hacks:\n",
    "\n",
    "1. Use the Jupyter notebook to write an algorithm that solves a decidable problem. You can use math or whatever else you would like to do.\n",
    "2. Write code to get the computer to run forever. Check [this example](https://mmaxwu.github.io/Tri2-GroupFastpages/lessons/2022/12/11/dd-lesson.html#An-Undecidable-Problem-Example) if you need help, but please come up with your own idea."
   ]
  }
 ],
 "metadata": {
  "kernelspec": {
   "display_name": "Python 3",
   "language": "python",
   "name": "python3"
  },
  "language_info": {
   "codemirror_mode": {
    "name": "ipython",
    "version": 3
   },
   "file_extension": ".py",
   "mimetype": "text/x-python",
   "name": "python",
   "nbconvert_exporter": "python",
   "pygments_lexer": "ipython3",
   "version": "3.8.10 (default, Jun 22 2022, 20:18:18) \n[GCC 9.4.0]"
  },
  "orig_nbformat": 4,
  "vscode": {
   "interpreter": {
    "hash": "916dbcbb3f70747c44a77c7bcd40155683ae19c65e1c03b4aa3499c5328201f1"
   }
  }
 },
 "nbformat": 4,
 "nbformat_minor": 2
}
